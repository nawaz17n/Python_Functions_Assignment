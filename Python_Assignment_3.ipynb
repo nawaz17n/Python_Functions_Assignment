{
 "cells": [
  {
   "cell_type": "markdown",
   "metadata": {},
   "source": [
    "# Theory Questions:"
   ]
  },
  {
   "cell_type": "markdown",
   "metadata": {},
   "source": [
    "## Question-1. What is the difference between a function and a method in Python?"
   ]
  },
  {
   "cell_type": "markdown",
   "metadata": {},
   "source": [
    "Ans:- In Python a function and a method are both blocks of code that can be executed multiple times from different parts of our program."
   ]
  },
  {
   "cell_type": "markdown",
   "metadata": {},
   "source": [
    "### Function:-\n",
    "\n",
    "#### Definition:-\n",
    "A function is a block of code that takes arguments to performs some operations and returns a value. It is not associated with any particular object or class. Functions are defined using the 'def' keyword.\n",
    "\n",
    "#### Uses Of a Function:-\n",
    "Functions can be called independently and are not associate with any particular object or class"
   ]
  },
  {
   "cell_type": "code",
   "execution_count": 48,
   "metadata": {},
   "outputs": [
    {
     "name": "stdout",
     "output_type": "stream",
     "text": [
      "Hello, Pwskills Welcome!\n"
     ]
    }
   ],
   "source": [
    "#Example of a Function\n",
    "def greet(name):\n",
    "    return (f\"Hello, {name} Welcome!\")\n",
    "print(greet(\"Pwskills\"))"
   ]
  },
  {
   "cell_type": "markdown",
   "metadata": {},
   "source": [
    "### Method:-\n",
    "\n",
    "#### Definition:-\n",
    "A method is a block of code that is associated with a particular object or class. It is a function that belongs to a class or object. Methods are also defined using the 'def' keyword.\n",
    "\n",
    "#### Uses Of a Method:-\n",
    "Methods are called on objects and they typically operate on the data contained within that object."
   ]
  },
  {
   "cell_type": "code",
   "execution_count": 40,
   "metadata": {},
   "outputs": [
    {
     "name": "stdout",
     "output_type": "stream",
     "text": [
      "Hello, Lokanath! Welcom To Pw Lab\n"
     ]
    }
   ],
   "source": [
    "#Example of Method\n",
    "class Person:\n",
    "    def set_name(self, name):\n",
    "        self.name = name\n",
    "        return self\n",
    "\n",
    "    def greet(self):\n",
    "        return f\"Hello, {self.name}! Welcom To Pw Lab\" \n",
    "    \n",
    "person = Person().set_name(\"Lokanath\")\n",
    "print(person.greet())"
   ]
  },
  {
   "cell_type": "markdown",
   "metadata": {},
   "source": [
    "#### Key Differences between Function & Method\n",
    "##### Scope:\n",
    "A function is an independent piece of code where a method is a function that belongs to an object.\n",
    "\n",
    "##### Calling: \n",
    "A function can be called directly while a method is called by an object.\n",
    "\n",
    "##### Data Access: \n",
    "Methods can access and modify the object's internal state while functions do not have direct access to an object's internal state ."
   ]
  },
  {
   "cell_type": "markdown",
   "metadata": {},
   "source": [
    "## Question-2. Explain the concept of function arguments and parameters in Python."
   ]
  },
  {
   "cell_type": "markdown",
   "metadata": {},
   "source": [
    "Ans:- When we define a function we can specify variables that the function will use to perform its operations. These variables are called parameters. When we call the function we pass in values for these parameters which are called arguments."
   ]
  },
  {
   "cell_type": "markdown",
   "metadata": {},
   "source": [
    "#### Arguments:\n",
    "Arguments are the values passed to the function when it is called. They are assigned to the corresponding parameters in the function definition\n",
    "\n",
    "#### Parameters: \n",
    "Parameters are the variables defined in the function definition. They are used to receive the input values when the function is called."
   ]
  },
  {
   "cell_type": "code",
   "execution_count": 50,
   "metadata": {},
   "outputs": [
    {
     "name": "stdout",
     "output_type": "stream",
     "text": [
      "Hello Neuron You are 21 years old.\n"
     ]
    }
   ],
   "source": [
    "#Example \n",
    "def greet(name, age): # name and age are parameters\n",
    "    print(f\"Hello {name} You are {age} years old.\")\n",
    "\n",
    "greet(\"Neuron\",21) # Neuron and 21 are arguments"
   ]
  },
  {
   "cell_type": "markdown",
   "metadata": {},
   "source": [
    "#### Types of Arguments and Parameters:"
   ]
  },
  {
   "cell_type": "markdown",
   "metadata": {},
   "source": [
    "##### Positional Arguments:\n",
    "These are the most common type of arguments. They are assigned to parameters based on their position in the function."
   ]
  },
  {
   "cell_type": "code",
   "execution_count": 51,
   "metadata": {},
   "outputs": [
    {
     "name": "stdout",
     "output_type": "stream",
     "text": [
      "Hello, Lokanath! You are 21 years old and from Bhubaneswar.\n"
     ]
    }
   ],
   "source": [
    "# Example of Positional Arguments:\n",
    "def greet(name, age, city):\n",
    "    print(f\"Hello, {name}! You are {age} years old and from {city}.\")\n",
    "greet(\"Lokanath\", 21, \"Bhubaneswar\")"
   ]
  },
  {
   "cell_type": "markdown",
   "metadata": {},
   "source": [
    "##### Keyword Arguments:\n",
    "These arguments are passed using the parameter names explicitly allowing you to specify which value should go to which parameter."
   ]
  },
  {
   "cell_type": "code",
   "execution_count": 52,
   "metadata": {},
   "outputs": [
    {
     "name": "stdout",
     "output_type": "stream",
     "text": [
      "Hello, Lokanath You are 21 years old and welcome to Data Science with Gen Ai job assistant Programme.\n"
     ]
    }
   ],
   "source": [
    "# Example of Keyword Arguments:\n",
    "def greet(name, age, course):\n",
    "    print(f\"Hello, {name} You are {age} years old and welcome to {course} job assistant Programme.\")\n",
    "greet(name=\"Lokanath\", age=21, course=\"Data Science with Gen Ai\")"
   ]
  },
  {
   "cell_type": "markdown",
   "metadata": {},
   "source": [
    "##### Default Parameters:\n",
    "You can provide default values for parameters in the function definition. If no argument is provided for that parameter the default value is used."
   ]
  },
  {
   "cell_type": "code",
   "execution_count": 53,
   "metadata": {},
   "outputs": [
    {
     "name": "stdout",
     "output_type": "stream",
     "text": [
      "Hello Lokanath Welcome to pwskills!\n",
      "Hello Satapathy Welcome to pwskills!\n"
     ]
    }
   ],
   "source": [
    "# Example of Defult Parameters:\n",
    "def greet(name=\"Lokanath\"):\n",
    "    return f\"Hello {name} Welcome to pwskills!\"\n",
    "\n",
    "print(greet())\n",
    "print(greet(\"Satapathy\"))\n"
   ]
  },
  {
   "cell_type": "markdown",
   "metadata": {},
   "source": [
    "##### Variable-Length Arguments: *args , *kwargs\n",
    "Allows you to pass a variable number of positional arguments to a function. It collects additional positional arguments into a tuple."
   ]
  },
  {
   "cell_type": "code",
   "execution_count": 54,
   "metadata": {},
   "outputs": [
    {
     "name": "stdout",
     "output_type": "stream",
     "text": [
      "Hello Lokanath Wlcome To Pw Lab!\n",
      "Hello Ajaya Wlcome To Pw Lab!\n",
      "Hello Bijay Wlcome To Pw Lab!\n",
      "Hello Sanjay Wlcome To Pw Lab!\n"
     ]
    }
   ],
   "source": [
    "#Example of Variable-Length Arguments\n",
    "def greet_people(*names):\n",
    "    for name in names:\n",
    "        print(f\"Hello {name} Wlcome To Pw Lab!\")\n",
    "\n",
    "greet_people(\"Lokanath\", \"Ajaya\", \"Bijay\", \"Sanjay\")\n"
   ]
  },
  {
   "cell_type": "code",
   "execution_count": 55,
   "metadata": {},
   "outputs": [
    {
     "name": "stdout",
     "output_type": "stream",
     "text": [
      "Hello Ajay You are From Bangalore!\n",
      "Hello Bijay You are From Mumbai!\n",
      "Hello Sanjay You are From Ddelhi!\n",
      "Hello Lokanath You are From Bhubansware!\n"
     ]
    }
   ],
   "source": [
    "# '*kwargs' Allows we to pass a variable number of keyword arguments to a function. It collects these arguments into a dictionary.\n",
    "def greet_people(**kwargs):\n",
    "    for key, value in kwargs.items():\n",
    "        print(f\"Hello {value} You are From {key}!\")\n",
    "\n",
    "greet_people(Bangalore=\"Ajay\", Mumbai=\"Bijay\", Ddelhi=\"Sanjay\", Bhubansware = \"Lokanath\")"
   ]
  },
  {
   "cell_type": "markdown",
   "metadata": {},
   "source": [
    "## Question-3. What are the different ways to define and call a function in Python?"
   ]
  },
  {
   "cell_type": "markdown",
   "metadata": {},
   "source": [
    "Ans:- \n",
    "There are several ways to define and call functions in python each serving different purposes and offering various levels of flexibility."
   ]
  },
  {
   "cell_type": "markdown",
   "metadata": {},
   "source": [
    "##### 1.Simple Function Definition and Call:\n",
    "A function is defined using the def keyword followed by the function name, parameters, and a block of code."
   ]
  },
  {
   "cell_type": "code",
   "execution_count": 56,
   "metadata": {},
   "outputs": [
    {
     "name": "stdout",
     "output_type": "stream",
     "text": [
      "Hello Lokanath Welcome to Pwlab!\n"
     ]
    }
   ],
   "source": [
    "#Example of Simple Function \n",
    "def greet(name):\n",
    "    print(f\"Hello {name} Welcome to Pwlab!\")\n",
    "\n",
    "greet(\"Lokanath\") "
   ]
  },
  {
   "cell_type": "markdown",
   "metadata": {},
   "source": [
    "##### 2.Function with Default Argument Values:\n",
    "You can define functions with default Argument values. If no argument is provided for a parameter the default value is used.\n"
   ]
  },
  {
   "cell_type": "code",
   "execution_count": 57,
   "metadata": {},
   "outputs": [
    {
     "name": "stdout",
     "output_type": "stream",
     "text": [
      "Hello, Ajay! You are 32 years old.\n",
      "Hello, Lokanath! You are 21 years old.\n"
     ]
    }
   ],
   "source": [
    "#Example of Function With Default Argument Values\n",
    "def greet(name, age=32):\n",
    "    print(f\"Hello, {name}! You are {age} years old.\")\n",
    "\n",
    "greet(\"Ajay\")\n",
    "greet(\"Lokanath\", 21)"
   ]
  },
  {
   "cell_type": "markdown",
   "metadata": {},
   "source": [
    "#### 3. Function with Variable-Length Arguments:\n",
    " Python allows we to define functions that accept a variable number of arguments using *args for positional arguments and **kwargs for keyword arguments."
   ]
  },
  {
   "cell_type": "code",
   "execution_count": 1,
   "metadata": {},
   "outputs": [
    {
     "name": "stdout",
     "output_type": "stream",
     "text": [
      "10\n",
      "Ajay: 31\n",
      "lokanath: 21\n",
      "sanjay: 25\n",
      "Huzaif: 24\n"
     ]
    }
   ],
   "source": [
    "#Example of Function With Variable-Length Arguments; by useing '*args' and '*kwargs\"\n",
    "def add_all(*args):\n",
    "    return sum(args)\n",
    "\n",
    "print(add_all(1, 2, 3, 4))\n",
    "\n",
    "def print_info(**kwargs):\n",
    "    for key, value in kwargs.items():\n",
    "        print(f\"{key}: {value}\")\n",
    "\n",
    "print_info(Ajay = 31,lokanath = 21,sanjay = 25,Huzaif = 24)"
   ]
  },
  {
   "cell_type": "markdown",
   "metadata": {},
   "source": [
    "##### 4. Nested Functions:\n",
    " A function can be defined inside another function. The inner function is only accessible within the scope of the outer function."
   ]
  },
  {
   "cell_type": "code",
   "execution_count": null,
   "metadata": {},
   "outputs": [
    {
     "name": "stdout",
     "output_type": "stream",
     "text": [
      "98\n",
      "128\n"
     ]
    }
   ],
   "source": [
    "#Example of Nested Function:\n",
    "def create_multiplier(number):\n",
    "    def multiplier(x):\n",
    "        return x * number\n",
    "    return multiplier\n",
    "\n",
    "double = create_multiplier(7)\n",
    "triple = create_multiplier(8)\n",
    "\n",
    "print(double(14))\n",
    "print(triple(16))"
   ]
  },
  {
   "cell_type": "markdown",
   "metadata": {},
   "source": [
    "##### 5. Functions with Argument Unpacking:\n",
    "functions can be defined to accept arguments using various syntaxes, including argument unpacking. "
   ]
  },
  {
   "cell_type": "code",
   "execution_count": null,
   "metadata": {},
   "outputs": [
    {
     "name": "stdout",
     "output_type": "stream",
     "text": [
      "Hello, Ajay You are 35 years old. And Wlcm To Pwlab\n",
      "Hello, Lokanath You are 20 years old. And Wlcm To Pwlab\n"
     ]
    }
   ],
   "source": [
    "#Example of Argument unpackiing\n",
    "def greet(name, age):\n",
    "    print(f\"Hello, {name} You are {age} years old. And Wlcm To Pwlab\")\n",
    "\n",
    "args = [\"Ajay\", 35]\n",
    "greet(*args)\n",
    "\n",
    "kwargs = {\"name\": \"Lokanath\", \"age\": 20}\n",
    "greet(**kwargs)"
   ]
  },
  {
   "cell_type": "markdown",
   "metadata": {},
   "source": [
    "##### 6. Lambda Functions:\n",
    " A lambda function is a small anonymous function defined using the lambda keyword. It can have any number of parameters but only one expression."
   ]
  },
  {
   "cell_type": "code",
   "execution_count": null,
   "metadata": {},
   "outputs": [
    {
     "name": "stdout",
     "output_type": "stream",
     "text": [
      "8\n",
      "26\n",
      "38\n"
     ]
    }
   ],
   "source": [
    "#Example of Lambda Function:\n",
    "add = lambda x, y: x + y\n",
    "print(add(5, 3))\n",
    "\n",
    "print((lambda x: x * 2)(13))\n",
    "print((lambda y: y * 2)(19))"
   ]
  },
  {
   "cell_type": "markdown",
   "metadata": {},
   "source": [
    "## Question-4. What is the purpose of the \"return\" statement in a Python function?"
   ]
  },
  {
   "cell_type": "markdown",
   "metadata": {},
   "source": [
    "Ans:-\n",
    "The purpose of \"return statement in python is end the executaion of a function and privide a value to the caller."
   ]
  },
  {
   "cell_type": "markdown",
   "metadata": {},
   "source": [
    "##### End the execuation of a Function :\n",
    "it means once the return statement is encountered the function stops running and returns control to the calling code.\n",
    "\n",
    "##### Provide a value to the caller:\n",
    "It means return statement can optionally return a value, which can be used in the calling code."
   ]
  },
  {
   "cell_type": "code",
   "execution_count": null,
   "metadata": {},
   "outputs": [
    {
     "name": "stdout",
     "output_type": "stream",
     "text": [
      "434\n"
     ]
    }
   ],
   "source": [
    "#Example\n",
    "def add(a, b):\n",
    "    result = a + b\n",
    "    return result\n",
    "\n",
    "sum = add(251, 183)\n",
    "print(sum) "
   ]
  },
  {
   "cell_type": "markdown",
   "metadata": {},
   "source": [
    "## Question-5.  What are iterators in Python and how do they differ from iterables?"
   ]
  },
  {
   "cell_type": "markdown",
   "metadata": {},
   "source": [
    "Ans:-\n",
    "iterators and iterables are two related but not same concepts.\n",
    "\n",
    "##### Iterators :\n",
    "An iterator is an object that represents a stream of data. It is the result of calling iter() on an iterable and it knows how to return the next item from the stream when you call next() on it.\n",
    "\n",
    "##### Iterables :\n",
    "An iterable is an object that can be iterated over meaning it can be used in a for loop or with the iter() function to produce a sequence of values. "
   ]
  },
  {
   "cell_type": "raw",
   "metadata": {
    "vscode": {
     "languageId": "raw"
    }
   },
   "source": [
    "Examples of iterables are:\n",
    "\n",
    "List = [\"Ata\", \"Rice\",\"oil\",\"Sugar\",\"Suji\",\"Masala\"]\n",
    "Tuples = (1,2,3,4,6,5,9,8)\n",
    "Strings = \"pwskils\"\n",
    "Dictionary = {\"apple\":10,\"banana\":20,\"cherry\":50}\n",
    "Sets: {1, 2, 3, 4, 5}\n",
    "Generators: (x**2 for x in range(5))"
   ]
  },
  {
   "cell_type": "code",
   "execution_count": null,
   "metadata": {},
   "outputs": [
    {
     "name": "stdout",
     "output_type": "stream",
     "text": [
      "Ata\n",
      "Rice\n",
      "oil\n",
      "Sugar\n",
      "Suji\n",
      "Masala\n"
     ]
    }
   ],
   "source": [
    "#Example of Iterables\n",
    "Grocery_List = [\"Ata\", \"Rice\",\"oil\",\"Sugar\",\"Suji\",\"Masala\"]\n",
    "for item in Grocery_List: \n",
    "    print(item)"
   ]
  },
  {
   "cell_type": "code",
   "execution_count": null,
   "metadata": {},
   "outputs": [
    {
     "name": "stdout",
     "output_type": "stream",
     "text": [
      "Ata\n",
      "Rice\n",
      "oil\n",
      "Sugar\n",
      "Suji\n",
      "Masala\n"
     ]
    }
   ],
   "source": [
    "#Example Of iterators\n",
    "Grocery_List = [\"Ata\", \"Rice\",\"oil\",\"Sugar\",\"Suji\",\"Masala\"]\n",
    "iterator = iter(Grocery_List) \n",
    "\n",
    "print(next(iterator))\n",
    "print(next(iterator))\n",
    "print(next(iterator))\n",
    "print(next(iterator))\n",
    "print(next(iterator))\n",
    "print(next(iterator))"
   ]
  },
  {
   "cell_type": "markdown",
   "metadata": {},
   "source": [
    "## Question-6.  Explain the concept of generators in Python and how they are defined."
   ]
  },
  {
   "cell_type": "markdown",
   "metadata": {},
   "source": [
    "Ans:-\n",
    "A generator is a special type of iterator that generates a sequence of values without storing them in memory . Generators are useful when working with large datasets and infinite sequences."
   ]
  },
  {
   "cell_type": "markdown",
   "metadata": {},
   "source": [
    "##### Defining a Generator:\n",
    "A generator is defined using a generator function which is a function that contains a \"yield\" statement. The \"yield\" statement is used to produce a value in the sequence and it suspends the function's execution until the next value is requested."
   ]
  },
  {
   "cell_type": "code",
   "execution_count": null,
   "metadata": {},
   "outputs": [
    {
     "name": "stdout",
     "output_type": "stream",
     "text": [
      "0\n",
      "1\n",
      "2\n",
      "3\n",
      "4\n",
      "5\n",
      "6\n",
      "7\n",
      "8\n",
      "9\n",
      "10\n"
     ]
    }
   ],
   "source": [
    "#Example\n",
    "def finite_sequence():\n",
    "    num = 0\n",
    "    while num <= 10:\n",
    "        yield num\n",
    "        num += 1\n",
    "\n",
    "gen = finite_sequence()\n",
    "\n",
    "for num in gen:\n",
    "    print(num)"
   ]
  },
  {
   "cell_type": "markdown",
   "metadata": {},
   "source": [
    "#### How Generators Work:"
   ]
  },
  {
   "cell_type": "markdown",
   "metadata": {},
   "source": [
    "##### When you call a generator function it returns a generator object\n",
    "##### The generator object is an iterator which means you can use it in a for loop or with the \"next()\" function.\n",
    "##### When you iterate over the generator the function execution is suspended until the next value is requested.\n",
    "##### When the \"next()\" function is called the function execution resumes from where it left and the next value is printed.\n",
    "##### The process repeats until the generator is exhausted or an exception error is raised."
   ]
  },
  {
   "cell_type": "markdown",
   "metadata": {},
   "source": [
    "## Question-7.  What are the advantages of using generators over regular functions?"
   ]
  },
  {
   "cell_type": "markdown",
   "metadata": {},
   "source": [
    "Ans:-\n",
    "Generators in Python offer several advantages over regular functions specially when dealing with large data sets or complex iterations."
   ]
  },
  {
   "cell_type": "markdown",
   "metadata": {},
   "source": [
    "### Some Advantages Of Using Generators are:\n",
    "\n",
    "##### 1. Memory Efficiency: \n",
    "Generators use less memory than regular functions specially when dealing with large datasets. This is because generators only store the current state of the iteration."
   ]
  },
  {
   "cell_type": "code",
   "execution_count": 2,
   "metadata": {
    "tags": []
   },
   "outputs": [
    {
     "name": "stdout",
     "output_type": "stream",
     "text": [
      "[0, 1, 2, 3, 4, 5, 6, 7, 8, 9]\n"
     ]
    }
   ],
   "source": [
    "#Example \n",
    "def large_range(n):\n",
    "    for i in range(n):\n",
    "        yield i\n",
    "\n",
    "gen = large_range(100)\n",
    "\n",
    "print(list(next(gen) for i in range(10))) \n"
   ]
  },
  {
   "cell_type": "markdown",
   "metadata": {},
   "source": [
    "##### 2. Improved Performance:\n",
    "Generators yield items one at a time they can start producing results immediately without waiting for the entire computation to finish."
   ]
  },
  {
   "cell_type": "markdown",
   "metadata": {},
   "source": [
    "##### 3.Easier Implementation: \n",
    "Generators can be easier to implement than regular functions specially when dealing with complex sequences or algorithms. The yield statement makes it easy to define a sequence of values without having to storing the entire sequence in memory."
   ]
  },
  {
   "cell_type": "code",
   "execution_count": null,
   "metadata": {},
   "outputs": [
    {
     "name": "stdout",
     "output_type": "stream",
     "text": [
      "0\n",
      "1\n",
      "1\n",
      "2\n",
      "3\n",
      "5\n",
      "8\n",
      "13\n",
      "21\n",
      "34\n"
     ]
    }
   ],
   "source": [
    "#Example\n",
    "def fibonacci():\n",
    "    a, b = 0, 1\n",
    "    while True:\n",
    "        yield a\n",
    "        a, b = b, a + b\n",
    "\n",
    "fibo_number = fibonacci()\n",
    "for i in range(10):\n",
    "    print(next(fibo_number))\n"
   ]
  },
  {
   "cell_type": "markdown",
   "metadata": {},
   "source": [
    "##### 4. Flexibility: \n",
    "Generators can be used to implement cooperative multitasking where the generator yields control to other tasks allowing for more efficient and responsive systems."
   ]
  },
  {
   "cell_type": "code",
   "execution_count": 61,
   "metadata": {},
   "outputs": [
    {
     "name": "stdout",
     "output_type": "stream",
     "text": [
      "0\n",
      "1\n",
      "4\n",
      "9\n",
      "16\n",
      "25\n",
      "36\n",
      "49\n",
      "64\n",
      "81\n",
      "100\n"
     ]
    }
   ],
   "source": [
    "#Example \n",
    "def squares_up_to(n):\n",
    "    for i in range(n):\n",
    "        yield i * i\n",
    "\n",
    "for square in squares_up_to(11):\n",
    "    print(square) "
   ]
  },
  {
   "cell_type": "markdown",
   "metadata": {},
   "source": [
    "##### 5.Pipelining: \n",
    "Generators can be used to create pipelines of data processing where each stage of the pipeline is a generator that yields values to the next stage. This can be more efficient and flexible than using regular functions."
   ]
  },
  {
   "cell_type": "code",
   "execution_count": 63,
   "metadata": {},
   "outputs": [
    {
     "name": "stdout",
     "output_type": "stream",
     "text": [
      "0\n",
      "4\n",
      "8\n",
      "12\n",
      "16\n"
     ]
    }
   ],
   "source": [
    "#Example \n",
    "def Generate_numbers(n):\n",
    "    for i in range(n):\n",
    "        yield i\n",
    "\n",
    "def Filter_even(numbers):\n",
    "    for num in numbers:\n",
    "        if num % 2 == 0:\n",
    "            yield num\n",
    "\n",
    "def Square(numbers):\n",
    "    for num in numbers:\n",
    "        yield num * 2\n",
    "\n",
    "Numbers = Generate_numbers(10)\n",
    "Evens = Filter_even(Numbers)\n",
    "Squares = square(Evens)\n",
    "\n",
    "for num in Squares:\n",
    "    print(num) \n",
    "# this code will out put square of even number"
   ]
  },
  {
   "cell_type": "markdown",
   "metadata": {},
   "source": [
    "## Question-8. What is a lambda function in Python and when is it typically used?"
   ]
  },
  {
   "cell_type": "markdown",
   "metadata": {},
   "source": [
    "Ans:-\n",
    "A lambda function in Python is a small anonymous function that can take any number of arguments, but can only have one expression.It define by using keyword \"lambda()\"."
   ]
  },
  {
   "cell_type": "markdown",
   "metadata": {},
   "source": [
    "### Some Uses Of Lambda Function are:-\n",
    "\n",
    "#### Sorting and filtering data: \n",
    "Lambda functions can be used as the key function in sorted() or list.sort() to specify a custom sorting order."
   ]
  },
  {
   "cell_type": "markdown",
   "metadata": {},
   "source": [
    "#### Event handling and callbacks: \n",
    "Lambda functions can be used as event handlers or callbacks in GUI programming, web development, or other situations where a small, one-time-use function is needed."
   ]
  },
  {
   "cell_type": "markdown",
   "metadata": {},
   "source": [
    "#### Data processing and transformation: \n",
    "Lambda functions can be used to perform simple data transformations or processing tasks, such as converting data types or performing arithmetic operations."
   ]
  },
  {
   "cell_type": "code",
   "execution_count": 11,
   "metadata": {},
   "outputs": [
    {
     "name": "stdout",
     "output_type": "stream",
     "text": [
      "[1, 4, 9, 16, 25, 36, 49, 64, 81]\n"
     ]
    }
   ],
   "source": [
    "#Example of use Lambda function\n",
    "numbers = [1,2,3 4,5,6,7,8,9]\n",
    "Square = [(lambda x: x ** 2)(x) for x in numbers]\n",
    "print(Square)"
   ]
  },
  {
   "cell_type": "markdown",
   "metadata": {},
   "source": [
    "## Question-9. Explain the purpose and usage of the \"map()\" function in Python."
   ]
  },
  {
   "cell_type": "markdown",
   "metadata": {},
   "source": [
    "Ans:-\n",
    "The map() function in Python is a built-in function that applies a given function to each item of an iterable and returns a list as a results. The purpose of map() is to transform or convert each element of an iterable into a new form."
   ]
  },
  {
   "cell_type": "markdown",
   "metadata": {},
   "source": [
    "##### Purpose of \"map()\" Function:-\n",
    "###### To create a new iterable with transformed elements.\n",
    "###### To apply a function to each element of an iterable object."
   ]
  },
  {
   "cell_type": "markdown",
   "metadata": {},
   "source": [
    "### Uses of map() Function:\n",
    "\n",
    "#### 1. Data Transformation: \n",
    "Applying transformations like squaring numbers, converting types to each element in a collection."
   ]
  },
  {
   "cell_type": "code",
   "execution_count": 12,
   "metadata": {},
   "outputs": [
    {
     "name": "stdout",
     "output_type": "stream",
     "text": [
      "[1, 4, 9, 16, 25, 36, 49, 64, 81, 100]\n"
     ]
    }
   ],
   "source": [
    "#Example of Data Transformation(converting Square) by useing 'map()' function \n",
    "List_Numbers = [1,2,3,4,5,6,7,8,9,10]\n",
    "Square_Number = map(lambda x: x ** 2, List_Numbers)\n",
    "print(list(Square_Number)) "
   ]
  },
  {
   "cell_type": "markdown",
   "metadata": {},
   "source": [
    "#### Data Combination: \n",
    "Combining elements from multiple iterables like adding corresponding elements from two lists."
   ]
  },
  {
   "cell_type": "code",
   "execution_count": 14,
   "metadata": {},
   "outputs": [
    {
     "name": "stdout",
     "output_type": "stream",
     "text": [
      "[7, 9, 11, 13, 15]\n",
      "['pwskills', 'Data Science', 'Gen AI', 'Ajay Gupta', 'Lokanath Satapayhy']\n"
     ]
    }
   ],
   "source": [
    "# Example of Addding two list \n",
    "My_list1 = [1,2,3,4,5]\n",
    "My_list2 = [6,7,8,9,10]\n",
    "My_list3 = [\"pw\", \"Data\",\"Gen\",\"Ajay\",\"Lokanath\"]\n",
    "My_list4 = [\"skills\", \" Science\",\" AI\",\" Gupta\",\" Satapayhy\"]\n",
    "result_1 = list(map(lambda x, y: x + y, My_list1, My_list2))\n",
    "result_2 = list(map(lambda x, y: x + y, My_list3, My_list4))\n",
    "print(result_1)\n",
    "print(result_2)"
   ]
  },
  {
   "cell_type": "markdown",
   "metadata": {},
   "source": [
    "#### Preprocessing: \n",
    "Applying functions to clean or prepare data before further analysis."
   ]
  },
  {
   "cell_type": "code",
   "execution_count": 16,
   "metadata": {},
   "outputs": [
    {
     "name": "stdout",
     "output_type": "stream",
     "text": [
      "['Pwskill', 'Data science', 'Lokanath', 'Ajay']\n"
     ]
    }
   ],
   "source": [
    "#Example \n",
    "names = [\"pwskill\" , \"data science\", \"lokanath\", \"ajay\"]\n",
    "capitalized_names = list(map(lambda x: x.capitalize(), names))\n",
    "print(capitalized_names) "
   ]
  },
  {
   "cell_type": "markdown",
   "metadata": {},
   "source": [
    "## Question-10. What is the difference between \"map()\", \"reduce()\", and \"filter()\" functions in Python?"
   ]
  },
  {
   "cell_type": "markdown",
   "metadata": {},
   "source": [
    "Ans:-\n",
    "The map(), reduce(), and filter() functions in Python are higher order functions and they are used to manipulate and transform iterables in a short and expressive way."
   ]
  },
  {
   "cell_type": "markdown",
   "metadata": {},
   "source": [
    "### \"map()\"\n",
    "#### Purpose:\n",
    "Applies a given function to each item of an iterable and returns a map object and returns a list as results. It takes two arguments a function and an iterable.\n",
    "\n",
    "#### Usage: \n",
    "When we need to transform all elements of an iterable"
   ]
  },
  {
   "cell_type": "code",
   "execution_count": 10,
   "metadata": {},
   "outputs": [
    {
     "name": "stdout",
     "output_type": "stream",
     "text": [
      "[1, 4, 9, 16, 25, 36, 49, 64, 81, 100, 121, 144]\n"
     ]
    }
   ],
   "source": [
    "#Example\n",
    "def square(x):\n",
    "    return x ** 2\n",
    "\n",
    "numbers = [1,2,3,4,5,6,7,8,9,10,11,12]\n",
    "squared_numbers = list(map(square, numbers))\n",
    "print(squared_numbers) "
   ]
  },
  {
   "cell_type": "markdown",
   "metadata": {},
   "source": [
    "### \"reduce()\" function is import from functools module:\n",
    "\n",
    "#### Purpose:\n",
    "Applies a binary function cumulatively to the items of an iterable, reducing it to a single value.\n",
    "\n",
    "#### Usage:\n",
    "When we need to perform a cumulative computation like list sum a list."
   ]
  },
  {
   "cell_type": "code",
   "execution_count": 15,
   "metadata": {},
   "outputs": [
    {
     "name": "stdout",
     "output_type": "stream",
     "text": [
      "120\n"
     ]
    }
   ],
   "source": [
    "#example\n",
    "from functools import reduce\n",
    "\n",
    "def add(x, y):\n",
    "    return x + y\n",
    "\n",
    "numbers = [1, 2, 3, 4, 5, 6, 7, 8, 9, 10, 11, 12, 13, 14, 15]\n",
    "result = reduce(add, numbers)\n",
    "print(result)\n"
   ]
  },
  {
   "cell_type": "markdown",
   "metadata": {},
   "source": [
    "### \"filter()\" Function:\n",
    "\n",
    "#### Purpose:\n",
    "Applies a function that returns either \"True\" or \"false\".\n",
    "\n",
    "#### Usage:\n",
    "When we need to filter out elements based on a condition."
   ]
  },
  {
   "cell_type": "code",
   "execution_count": 18,
   "metadata": {},
   "outputs": [
    {
     "name": "stdout",
     "output_type": "stream",
     "text": [
      "[2, 4, 6, 8, 10, 12, 14]\n",
      "[1, 3, 5, 7, 9, 11, 13, 15]\n"
     ]
    }
   ],
   "source": [
    "#Example\n",
    "List_numbers = [1, 2, 3, 4, 5, 6, 7, 8, 9, 10, 11, 12, 13, 14, 15]\n",
    "My_result_1 = filter(lambda x: x % 2 == 0, List_numbers)\n",
    "My_result_2 = filter(lambda x: x % 2 == 1, List_numbers)\n",
    "print(list(My_result_1))\n",
    "print(list(My_result_2))"
   ]
  },
  {
   "cell_type": "code",
   "execution_count": 1,
   "metadata": {},
   "outputs": [
    {
     "name": "stdout",
     "output_type": "stream",
     "text": [
      "113\n"
     ]
    }
   ],
   "source": [
    "from functools import reduce\n",
    "def add(x, y):\n",
    "    return x + y\n",
    "\n",
    "numbers = [47, 11, 42, 13]\n",
    "result = reduce(add, numbers)\n",
    "\n",
    "print(result)"
   ]
  },
  {
   "cell_type": "markdown",
   "metadata": {},
   "source": [
    "## Question-11. Using pen & Paper write the internal mechanism for sum operation using  reduce function on this given list=[47,11,42,13]; "
   ]
  },
  {
   "cell_type": "markdown",
   "metadata": {},
   "source": [
    "### Ans:-"
   ]
  },
  {
   "cell_type": "markdown",
   "metadata": {},
   "source": [
    "##### Google Colab Notebook Link :- \n",
    "https://colab.research.google.com/drive/14jP2ATV22vCP0Xg1ISu3Nos22BflRLE6#scrollTo=tCER_W8vae5G"
   ]
  },
  {
   "cell_type": "markdown",
   "metadata": {},
   "source": [
    "##### Google Drive Folder Google Doc. Link :-\n",
    "https://docs.google.com/document/d/1YScMyocwX096hHu-lqRKelwsAhsGH3oU/edit"
   ]
  },
  {
   "cell_type": "markdown",
   "metadata": {},
   "source": [
    "# Practical Questions:"
   ]
  },
  {
   "cell_type": "markdown",
   "metadata": {},
   "source": [
    "## Question-1. Write a Python function that takes a list of numbers as input and returns the sum of all even numbers in the list."
   ]
  },
  {
   "cell_type": "code",
   "execution_count": 6,
   "metadata": {},
   "outputs": [
    {
     "name": "stdin",
     "output_type": "stream",
     "text": [
      "Enter your list of numbers separated by space:   1 2 3 4 5 6 7 8 9 10 11 12 13 14 15\n"
     ]
    },
    {
     "name": "stdout",
     "output_type": "stream",
     "text": [
      "The sum of all even numbers is: 56\n"
     ]
    }
   ],
   "source": [
    "def sum_even_numbers():\n",
    "    user_input = input(\"Enter your list of numbers separated by space: \")\n",
    "    numbers = [int(num) for num in user_input.split()]\n",
    "    even_sum = 0\n",
    "\n",
    "    for num in numbers:\n",
    "        if num % 2 == 0:\n",
    "            even_sum += num\n",
    "    return even_sum\n",
    "\n",
    "result = sum_even_numbers()\n",
    "print(\"The sum of all even numbers is:\", result)"
   ]
  },
  {
   "cell_type": "code",
   "execution_count": null,
   "metadata": {},
   "outputs": [],
   "source": []
  },
  {
   "cell_type": "markdown",
   "metadata": {},
   "source": [
    "## Question-2. Create a Python function that accepts a string and returns the reverse of that string."
   ]
  },
  {
   "cell_type": "code",
   "execution_count": 7,
   "metadata": {},
   "outputs": [
    {
     "name": "stdin",
     "output_type": "stream",
     "text": [
      "Enter your string:  Data Science\n"
     ]
    },
    {
     "name": "stdout",
     "output_type": "stream",
     "text": [
      "The reverse of the string is: ecneicS ataD\n"
     ]
    }
   ],
   "source": [
    "#Code\n",
    "def Reverse_string(input_string):\n",
    "    Reversed_string = input_string[::-1]\n",
    "    return Reversed_string\n",
    "\n",
    "input_string = input(\"Enter your string: \")\n",
    "result = Reverse_string(input_string)\n",
    "print(\"The reverse of the string is:\", result)"
   ]
  },
  {
   "cell_type": "code",
   "execution_count": null,
   "metadata": {},
   "outputs": [],
   "source": []
  },
  {
   "cell_type": "markdown",
   "metadata": {},
   "source": [
    "## Question-3. Implement a Python function that takes a list of integers and returns a new list containing the squares of each number."
   ]
  },
  {
   "cell_type": "code",
   "execution_count": 9,
   "metadata": {},
   "outputs": [
    {
     "name": "stdin",
     "output_type": "stream",
     "text": [
      "Enter your list of numbers separated by space:  1 2 3 4 5 6 7 8 9 10 11\n"
     ]
    },
    {
     "name": "stdout",
     "output_type": "stream",
     "text": [
      "The list of your square numbers is: [1, 4, 9, 16, 25, 36, 49, 64, 81, 100, 121]\n"
     ]
    }
   ],
   "source": [
    "#Code\n",
    "def square_numbers(numbers):\n",
    "    squared_numbers = [num ** 2 for num in numbers]\n",
    "    return squared_numbers\n",
    "\n",
    "numbers = input(\"Enter your list of numbers separated by space: \")\n",
    "numbers = [int(num) for num in numbers.split()]\n",
    "result = square_numbers(numbers)\n",
    "print(\"The list of your square numbers is:\", result)"
   ]
  },
  {
   "cell_type": "code",
   "execution_count": null,
   "metadata": {},
   "outputs": [],
   "source": []
  },
  {
   "cell_type": "markdown",
   "metadata": {},
   "source": [
    "## Question-4. Write a Python function that checks if a given number is prime or not from 1 to 200."
   ]
  },
  {
   "cell_type": "code",
   "execution_count": 13,
   "metadata": {},
   "outputs": [
    {
     "name": "stdin",
     "output_type": "stream",
     "text": [
      "Enter a number between 1 and 200:  197\n"
     ]
    },
    {
     "name": "stdout",
     "output_type": "stream",
     "text": [
      "197 is a prime number.\n"
     ]
    }
   ],
   "source": [
    "def prime_number(a):\n",
    "    # Check if the number is less than 2\n",
    "    if a < 2:\n",
    "        return False\n",
    "    # Check if the number is 2\n",
    "    if a == 2:\n",
    "        return True\n",
    "    # Check if the number is even\n",
    "    if a % 2 == 0:\n",
    "        return False\n",
    "    # Check if the number has any odd divisors\n",
    "    for i in range(2, int(a ** 0.5) + 1):\n",
    "        if a % i == 0:\n",
    "            return False\n",
    "    # If no divisors are found, the number is prime\n",
    "    return True\n",
    "\n",
    "number = int(input(\"Enter a number between 1 and 200: \"))\n",
    "if prime_number(number):\n",
    "    print(f\"{number} is a prime number.\")\n",
    "else:\n",
    "    print(f\"{number} is not a prime number.\")"
   ]
  },
  {
   "cell_type": "code",
   "execution_count": null,
   "metadata": {},
   "outputs": [],
   "source": []
  },
  {
   "cell_type": "markdown",
   "metadata": {},
   "source": [
    "## Question-5.  Create an iterator class in Python that generates the Fibonacci sequence up to a specified number of terms."
   ]
  },
  {
   "cell_type": "code",
   "execution_count": 19,
   "metadata": {},
   "outputs": [
    {
     "name": "stdout",
     "output_type": "stream",
     "text": [
      "0\n",
      "1\n",
      "1\n",
      "2\n",
      "3\n",
      "5\n",
      "8\n",
      "13\n",
      "21\n",
      "34\n"
     ]
    }
   ],
   "source": [
    "class FibonacciIterator:\n",
    "    def fibonacci(self, num_terms):\n",
    "        a, b = 0, 1\n",
    "        for _ in range(num_terms):\n",
    "            yield a\n",
    "            a, b = b, a + b\n",
    "\n",
    "fib_iterator = FibonacciIterator()\n",
    "for num in fib_iterator.fibonacci(10):\n",
    "    print(num)"
   ]
  },
  {
   "cell_type": "code",
   "execution_count": null,
   "metadata": {},
   "outputs": [],
   "source": []
  },
  {
   "cell_type": "markdown",
   "metadata": {},
   "source": [
    "## Question-6. Write a generator function in Python that yields the powers of 2 up to a given exponent."
   ]
  },
  {
   "cell_type": "code",
   "execution_count": 41,
   "metadata": {},
   "outputs": [
    {
     "name": "stdout",
     "output_type": "stream",
     "text": [
      "1\n",
      "2\n",
      "4\n",
      "8\n",
      "16\n",
      "32\n"
     ]
    }
   ],
   "source": [
    "def Square(max_exponent):\n",
    "    for exponent in range(max_exponent + 1):\n",
    "        yield 2 ** exponent  \n",
    "for i in Square(5):\n",
    "    print(i)"
   ]
  },
  {
   "cell_type": "markdown",
   "metadata": {},
   "source": [
    "## Question-7. Implement a generator function that reads a file line by line and yields each line as a string."
   ]
  },
  {
   "cell_type": "code",
   "execution_count": 42,
   "metadata": {},
   "outputs": [
    {
     "name": "stdout",
     "output_type": "stream",
     "text": [
      "File not found: File.ipnyb\n"
     ]
    }
   ],
   "source": [
    "def File_Reader(file_path):\n",
    "    try:\n",
    "        with open(file_path, \"r\") as file:\n",
    "            for line in file:\n",
    "                yield line.strip()\n",
    "    except FileNotFoundError:\n",
    "        print(f\"File not found: {file_path}\")\n",
    "        \n",
    "#Use of Above code\n",
    "for line in File_Reader(\"File.ipnyb\"):\n",
    "    print(line)"
   ]
  },
  {
   "cell_type": "markdown",
   "metadata": {},
   "source": [
    "## Question-8. Use a lambda function in Python to sort a list of tuples based on the second element of each tuple."
   ]
  },
  {
   "cell_type": "code",
   "execution_count": 22,
   "metadata": {},
   "outputs": [
    {
     "name": "stdout",
     "output_type": "stream",
     "text": [
      "[(5, 6), (4, 7), (3, 8), (2, 9), (1, 10), (5, 10)]\n"
     ]
    }
   ],
   "source": [
    "# Define a list of tuples\n",
    "List_tuples = [(1, 10),(2, 9),(3, 8),(4, 7),(5 ,6), (5,10)]\n",
    "\n",
    "# Sort the list of tuples using a lambda function\n",
    "sort_tuples = sorted(List_tuples, key=lambda x: x[1])\n",
    "\n",
    "print(sort_tuples)"
   ]
  },
  {
   "cell_type": "markdown",
   "metadata": {},
   "source": [
    "## Question-9. Write a Python program that uses \"map()\" to convert a list of temperatures from Celsius to Fahrenheit."
   ]
  },
  {
   "cell_type": "code",
   "execution_count": 28,
   "metadata": {},
   "outputs": [
    {
     "name": "stdout",
     "output_type": "stream",
     "text": [
      "Temparatures in Celsius:- [10, 24, 37, 45, 51, 49]\n",
      "Converted temperatures in Fahrenheit:- [50.0, 75.2, 98.6, 113.0, 123.8, 120.2]\n"
     ]
    }
   ],
   "source": [
    "# Define a function to convert Celsius to Fahrenheit\n",
    "def Celsius_to_Fahrenheit(celsius):\n",
    "    return (celsius * 9/5) + 32\n",
    "\n",
    "List_celsius = [10, 24, 37, 45, 51, 49]\n",
    "Convert_Fahrenheit = list(map(Celsius_to_Fahrenheit, List_celsius))\n",
    "\n",
    "print(\"Temparatures in Celsius:-\", List_celsius)\n",
    "print(\"Converted temperatures in Fahrenheit:-\", Convert_Fahrenheit)"
   ]
  },
  {
   "cell_type": "markdown",
   "metadata": {},
   "source": [
    "## Question-10. Create a Python program that uses \"filter()\" to remove all the vowels from a given string."
   ]
  },
  {
   "cell_type": "code",
   "execution_count": 45,
   "metadata": {},
   "outputs": [
    {
     "name": "stdout",
     "output_type": "stream",
     "text": [
      "Hello Neurons\n",
      "Text without vowels: Hll Nrns\n"
     ]
    }
   ],
   "source": [
    "# Create a Programme to remove Vowels\n",
    "def Remove_vowel(char):\n",
    "    vowels = 'aeiouAEIOU'\n",
    "    return char not in vowels\n",
    "\n",
    "My_String = \"Hello Neurons\"\n",
    "remove_vowels_String = ''.join(filter(Remove_vowel, My_String))\n",
    "\n",
    "print(My_String)\n",
    "print(\"Text without vowels:\", remove_vowels_String)"
   ]
  },
  {
   "cell_type": "code",
   "execution_count": null,
   "metadata": {},
   "outputs": [],
   "source": []
  },
  {
   "cell_type": "markdown",
   "metadata": {},
   "source": [
    "## Question-11. Imagine an accounting routine used in a book shop. It works on a list with sublists, Write a Python program, which returns a list with 2-tuples. Each tuple consists of the order number and the product of the price per item and the quantity. The product should be increased by 10 € if the value of the order is smaller than 100,00 €."
   ]
  },
  {
   "cell_type": "markdown",
   "metadata": {},
   "source": [
    "##### Ans:-"
   ]
  },
  {
   "cell_type": "code",
   "execution_count": 16,
   "metadata": {},
   "outputs": [
    {
     "name": "stdout",
     "output_type": "stream",
     "text": [
      "[(34587, 173.8), (98762, 294.0), (77226, 98.85000000000001), (88112, 74.97)]\n"
     ]
    }
   ],
   "source": [
    "orders = [\n",
    "    [34587, \"Learning Python\", \"Mark Lutz\", 4, 40.95],\n",
    "    [98762, \"Programming Python\", \"Mark Lutz\", 5, 56.80],\n",
    "    [77226, \"Head First python\", \"Paul Barry\", 3, 32.95],\n",
    "    [88112, \"Einfuhrung in Python3\", \"Bernd Klein\", 3, 24.99]\n",
    "]\n",
    "\n",
    "result = list(map(lambda x: (x[0], x[3] * x[4] + (10 if x[3] * x[4] >= 100 else 0)), orders))\n",
    "\n",
    "print(result)"
   ]
  },
  {
   "cell_type": "code",
   "execution_count": null,
   "metadata": {},
   "outputs": [],
   "source": []
  }
 ],
 "metadata": {
  "kernelspec": {
   "display_name": "Python 3 (ipykernel)",
   "language": "python",
   "name": "python3"
  },
  "language_info": {
   "codemirror_mode": {
    "name": "ipython",
    "version": 3
   },
   "file_extension": ".py",
   "mimetype": "text/x-python",
   "name": "python",
   "nbconvert_exporter": "python",
   "pygments_lexer": "ipython3",
   "version": "3.10.8"
  }
 },
 "nbformat": 4,
 "nbformat_minor": 4
}
